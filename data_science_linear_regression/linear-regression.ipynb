{
 "cells": [
  {
   "cell_type": "markdown",
   "id": "cef923c2",
   "metadata": {},
   "source": [
    "# Linear Regression Practice\n",
    "\n",
    "The goal of this notebook is to re-create the scikit-learn linear model from scratch."
   ]
  },
  {
   "cell_type": "markdown",
   "id": "98a42529",
   "metadata": {},
   "source": [
    "## Linear Regression with scikit-learn"
   ]
  },
  {
   "cell_type": "code",
   "execution_count": null,
   "id": "35a3985f",
   "metadata": {},
   "outputs": [],
   "source": [
    "import numpy as np\n",
    "import matplotlib.pyplot as plt\n",
    "\n",
    "from sklearn import datasets, linear_model\n",
    "from sklearn.model_selection import train_test_split\n",
    "from sklearn.metrics import mean_squared_error, r2_score\n"
   ]
  },
  {
   "cell_type": "code",
   "execution_count": null,
   "id": "4405704b",
   "metadata": {},
   "outputs": [],
   "source": [
    "# Load the diabetes dataset\n",
    "diabetes_X, diabetes_y = datasets.load_diabetes(return_X_y=True)\n",
    "\n",
    "# Use only one feature\n",
    "diabetes_X = diabetes_X[:, np.newaxis, 2]\n",
    "\n",
    "# Split the data into training/testing sets\n",
    "x_train, x_test, y_train, y_test = train_test_split(diabetes_X, diabetes_y, test_size=0.1)\n",
    "\n",
    "# Create linear regression object\n",
    "regr = linear_model.LinearRegression()\n",
    "\n",
    "# Train the model using the training sets\n",
    "regr.fit(x_train, y_train)\n",
    "\n",
    "# Make predictions using the testing set\n",
    "y_pred = regr.predict(x_test)\n"
   ]
  },
  {
   "cell_type": "code",
   "execution_count": null,
   "id": "a4b711df",
   "metadata": {},
   "outputs": [],
   "source": [
    "# The coefficients\n",
    "print(\"Coefficients: \\n{}\".format(regr.coef_))\n",
    "# The mean squared error\n",
    "print(\"Mean squared error: {:.2f}\".format(mean_squared_error(y_test, y_pred)))\n",
    "# The coefficient of determination: 1 is perfect prediction\n",
    "print(\"Coefficient of determination: {:.2f}\".format(r2_score(y_test, y_pred)))\n"
   ]
  },
  {
   "cell_type": "code",
   "execution_count": null,
   "id": "fbefd5d9",
   "metadata": {},
   "outputs": [],
   "source": [
    "# Plot outputs\n",
    "plt.scatter(x_test, y_test, color=\"red\", marker=\"+\")\n",
    "plt.plot(x_test, y_pred, color=\"blue\", linewidth=0.75)\n",
    "plt.show()\n"
   ]
  },
  {
   "cell_type": "markdown",
   "id": "3b1ba307",
   "metadata": {},
   "source": [
    "## Linear Regression from scratch"
   ]
  },
  {
   "cell_type": "code",
   "execution_count": null,
   "id": "125f096c",
   "metadata": {},
   "outputs": [],
   "source": [
    "# Define functions corresponding to calculation of Linear Regression by hand\n",
    "# Wrap functions in a class\n",
    "\n",
    "\n",
    "class MyLinearRegression:\n",
    "    \"\"\"A Linear Regression model.\n",
    "    \"\"\"\n",
    "    def __init__(self):\n",
    "        return\n",
    "\n",
    "\n",
    "    def _calculate_r(self, x, y):\n",
    "        \"\"\"Calculates Pearson Correlation Coefficient (r).\n",
    "        \"\"\"\n",
    "        x_mean = np.mean(x)\n",
    "        y_mean = np.mean(y)\n",
    "        numerator = sum([(x_i-x_mean)*(y[i]-y_mean) for i, x_i in enumerate(x)])\n",
    "        sub_denominator_x = sum([(x_i-x_mean)**2 for i, x_i in enumerate(x)])\n",
    "        sub_denominator_y = sum([(y_i-y_mean)**2 for i, y_i in enumerate(y)])\n",
    "        denominator = np.sqrt(sub_denominator_x * sub_denominator_y)\n",
    "        return numerator/denominator\n",
    "\n",
    "\n",
    "    def _calculate_b(self, x, y, r):\n",
    "        \"\"\"Calculates slope (b) of regression line.\n",
    "\n",
    "        r: Pearson's correlation coefficient\n",
    "        \"\"\"\n",
    "        x_stdev = np.std(x, ddof=1)\n",
    "        y_stdev = np.std(y, ddof=1)\n",
    "        return r * (y_stdev / x_stdev)\n",
    "\n",
    "\n",
    "    def _calculate_a(self, x, y, b):\n",
    "        \"\"\"Calculates y-intercept (a) of regression line.\n",
    "\n",
    "        b: Slope\n",
    "        \"\"\"\n",
    "        x_mean = np.mean(x)\n",
    "        y_mean = np.mean(y)\n",
    "        return y_mean - (b * x_mean)\n",
    "\n",
    "\n",
    "    def fit(self, x, y):\n",
    "        \"\"\"Calculates components of the linear regression formula: y = a + bx.\n",
    "        \"\"\"\n",
    "        self.r = self._calculate_r(x, y)\n",
    "        self.b = self._calculate_b(x, y, r=self.r)\n",
    "        self.a = self._calculate_a(x, y, b=self.b)\n",
    "        return\n",
    "\n",
    "\n",
    "    def predict(self, x):\n",
    "        \"\"\"Calculates predicted y using: y = a + bx.\n",
    "        \"\"\"\n",
    "        return np.array([self.a + (self.b * x_i) for x_i in x]).flatten()\n",
    "\n"
   ]
  },
  {
   "cell_type": "code",
   "execution_count": null,
   "id": "76a2b5f9",
   "metadata": {},
   "outputs": [],
   "source": [
    "# Test on dummy data\n",
    "x_dummy = np.array([17, 13, 12, 15, 16, 14, 16, 16, 18, 19])\n",
    "y_dummy = np.array([94, 73, 59, 80, 93, 85, 66, 79, 77, 91])\n",
    "\n",
    "my_regr = MyLinearRegression()\n",
    "my_regr.fit(x=x_dummy, y=y_dummy)\n",
    "my_regr.predict(x=x_dummy)\n"
   ]
  },
  {
   "cell_type": "code",
   "execution_count": null,
   "id": "3d1df9ba",
   "metadata": {},
   "outputs": [],
   "source": [
    "# Test on Diabetes data set\n",
    "my_regr = MyLinearRegression()\n",
    "my_regr.fit(x=x_train, y=y_train)\n",
    "my_y_pred = my_regr.predict(x=x_test)\n"
   ]
  },
  {
   "cell_type": "code",
   "execution_count": null,
   "id": "7cfffe9f",
   "metadata": {},
   "outputs": [],
   "source": [
    "# Scikit-learn and personal model predictions are the same!\n",
    "np.testing.assert_allclose(my_y_pred, y_pred, rtol=1e-5, atol=0)\n",
    "display(y_pred, my_y_pred)\n"
   ]
  },
  {
   "cell_type": "code",
   "execution_count": null,
   "id": "a857246f",
   "metadata": {},
   "outputs": [],
   "source": []
  }
 ],
 "metadata": {
  "kernelspec": {
   "display_name": "Python 3 (ipykernel)",
   "language": "python",
   "name": "python3"
  },
  "language_info": {
   "codemirror_mode": {
    "name": "ipython",
    "version": 3
   },
   "file_extension": ".py",
   "mimetype": "text/x-python",
   "name": "python",
   "nbconvert_exporter": "python",
   "pygments_lexer": "ipython3",
   "version": "3.10.6"
  }
 },
 "nbformat": 4,
 "nbformat_minor": 5
}
